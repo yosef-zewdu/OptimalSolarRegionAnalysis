{
 "cells": [
  {
   "cell_type": "markdown",
   "metadata": {},
   "source": [
    "# Exploratory Data Analyisis for Togo dataset"
   ]
  },
  {
   "cell_type": "code",
   "execution_count": null,
   "metadata": {},
   "outputs": [],
   "source": [
    "import sys\n",
    "sys.path.append('../scripts')\n"
   ]
  },
  {
   "cell_type": "code",
   "execution_count": null,
   "metadata": {},
   "outputs": [],
   "source": [
    "import pandas as pd \n",
    "import numpy as np \n",
    "import seaborn as sns\n",
    "import matplotlib.pyplot as plt\n",
    "from pandas.plotting import scatter_matrix\n",
    "from scipy import stats\n",
    "from utils import negative_values, missing_values"
   ]
  },
  {
   "cell_type": "code",
   "execution_count": null,
   "metadata": {},
   "outputs": [],
   "source": [
    "# Load_data\n",
    "df = pd.read_csv('../data/raw/togo.csv')\n",
    "df.head()\n"
   ]
  },
  {
   "cell_type": "markdown",
   "metadata": {},
   "source": [
    "## Summary Statistics "
   ]
  },
  {
   "cell_type": "code",
   "execution_count": null,
   "metadata": {},
   "outputs": [],
   "source": [
    "df.describe()"
   ]
  },
  {
   "cell_type": "code",
   "execution_count": null,
   "metadata": {},
   "outputs": [],
   "source": [
    "df.shape"
   ]
  },
  {
   "cell_type": "code",
   "execution_count": null,
   "metadata": {},
   "outputs": [],
   "source": [
    "df.dtypes"
   ]
  },
  {
   "cell_type": "markdown",
   "metadata": {},
   "source": [
    "## Data Quality Check "
   ]
  },
  {
   "cell_type": "code",
   "execution_count": null,
   "metadata": {},
   "outputs": [],
   "source": [
    "# Missing values \n",
    "missing_values(df)\n",
    "\n",
    "\n"
   ]
  },
  {
   "cell_type": "code",
   "execution_count": null,
   "metadata": {},
   "outputs": [],
   "source": [
    "# Incorrect_entries \n",
    "\n",
    "# Columns with negative values\n",
    "column_negative =negative_values(df)\n",
    "column_negative"
   ]
  },
  {
   "cell_type": "code",
   "execution_count": null,
   "metadata": {},
   "outputs": [],
   "source": [
    "# Check for Outliers \n",
    "\n",
    "outliers=[]\n",
    "def detect_outliers(data):\n",
    "    \n",
    "    threshold=3\n",
    "    mean = np.mean(data)\n",
    "    std =np.std(data)\n",
    "    \n",
    "    \n",
    "    for i in data:\n",
    "        z_score= (i - mean)/std \n",
    "        if np.abs(z_score) > threshold:\n",
    "            outliers.append(i)\n",
    "    return outliers\n",
    "\n",
    "check_list = ['ModA', 'ModB', 'WS', 'WSgust']\n",
    "for i in df[check_list]:\n",
    "  outlier_pt=detect_outliers(df[i])\n",
    "  sorted_outliers=sorted(outlier_pt)\n",
    "  print('number of outliers in ', i, len(outlier_pt))\n",
    "  print(outlier_pt)\n"
   ]
  },
  {
   "cell_type": "markdown",
   "metadata": {},
   "source": [
    "## Data Cleaning "
   ]
  },
  {
   "cell_type": "code",
   "execution_count": null,
   "metadata": {},
   "outputs": [],
   "source": [
    "# missing value\n",
    "dff = df.dropna(axis=1)\n",
    "# negative values \n",
    "## we have found the column with negative values is GHI \n",
    "\n",
    "dff.loc[dff['GHI'] < 0, 'GHI'] = 0\n"
   ]
  },
  {
   "cell_type": "code",
   "execution_count": null,
   "metadata": {},
   "outputs": [],
   "source": [
    "dff.head()"
   ]
  },
  {
   "cell_type": "code",
   "execution_count": null,
   "metadata": {},
   "outputs": [],
   "source": [
    "# For analysis of time series we change the object datatype of timestamp to datetime \n",
    "\n",
    "# Convert to datetime64[ns] data type\n",
    "dff['Timestamp']= pd.to_datetime(dff['Timestamp'])\n",
    "\n",
    "# Format the 'date' column using dt.strftime()\n",
    "dff['formatted_date'] = dff['Timestamp'].dt.strftime('%Y-%m-%d %H:%M')\n",
    "\n",
    "# Reindex the DataFrame using the 'date' column\n",
    "dff = dff.set_index('Timestamp')\n"
   ]
  },
  {
   "cell_type": "code",
   "execution_count": null,
   "metadata": {},
   "outputs": [],
   "source": [
    "dff.head()"
   ]
  },
  {
   "cell_type": "markdown",
   "metadata": {},
   "source": [
    "## Time Series Analysis "
   ]
  },
  {
   "cell_type": "code",
   "execution_count": null,
   "metadata": {},
   "outputs": [],
   "source": [
    "# For GHI\n",
    "plt.figure(figsize=(12, 6))\n",
    "plt.plot(dff.index, dff['GHI'], label='Solar GHI')\n",
    "plt.title('Solar Radiation Over Time')\n",
    "plt.xlabel('Time')\n",
    "plt.ylabel('GHI')\n",
    "plt.legend()\n",
    "plt.grid(True)\n",
    "plt.xticks(rotation=45)\n",
    "plt.tight_layout()\n",
    "plt.show()"
   ]
  },
  {
   "cell_type": "code",
   "execution_count": null,
   "metadata": {},
   "outputs": [],
   "source": [
    "# For DNI\n",
    "plt.figure(figsize=(12, 6))\n",
    "plt.plot(dff.index, dff['DNI'], label='Solar DNI')\n",
    "plt.title('Solar Radiation Over Time')\n",
    "plt.xlabel('Time')\n",
    "plt.ylabel('DNI')\n",
    "plt.legend()\n",
    "plt.grid(True)\n",
    "plt.xticks(rotation=45)\n",
    "plt.tight_layout()\n",
    "plt.show()"
   ]
  },
  {
   "cell_type": "code",
   "execution_count": null,
   "metadata": {},
   "outputs": [],
   "source": [
    "# For DHI\n",
    "plt.figure(figsize=(12, 6))\n",
    "plt.plot(dff.index, dff['DHI'], label='Solar DHI')\n",
    "plt.title('Solar Radiation Over Time')\n",
    "plt.xlabel('Time')\n",
    "plt.ylabel('DHI')\n",
    "plt.legend()\n",
    "plt.grid(True)\n",
    "plt.xticks(rotation=45)\n",
    "plt.tight_layout()\n",
    "plt.show()"
   ]
  },
  {
   "cell_type": "code",
   "execution_count": null,
   "metadata": {},
   "outputs": [],
   "source": [
    "# For Tamb\n",
    "plt.figure(figsize=(12, 6))\n",
    "plt.plot(dff.index, dff['Tamb'], label='Ambient Temperature')\n",
    "plt.title('Temperature Over Time')\n",
    "plt.xlabel('Time')\n",
    "plt.ylabel('Tamb')\n",
    "plt.legend()\n",
    "plt.grid(True)\n",
    "plt.xticks(rotation=45)\n",
    "plt.tight_layout()\n",
    "plt.show()"
   ]
  },
  {
   "cell_type": "markdown",
   "metadata": {},
   "source": [
    "## Correlation Analysis"
   ]
  },
  {
   "cell_type": "code",
   "execution_count": null,
   "metadata": {},
   "outputs": [],
   "source": [
    "\n",
    "# Select relevant columns for correlation analysis\n",
    "subset_df = dff[['GHI', 'DNI', 'DHI', 'TModA', 'TModB']]\n",
    "\n",
    "# Calculate the correlation matrix\n",
    "correlation_matrix = subset_df.corr()\n",
    "\n",
    "# Create a heatmap\n",
    "plt.figure(figsize=(8, 6))\n",
    "sns.heatmap(correlation_matrix, annot=True, cmap='coolwarm', vmin=-1, vmax=1)\n",
    "plt.title('Correlation Heatmap of Solar Radiation and Temperature')\n",
    "plt.show()\n",
    "\n",
    "# Create a pair plot\n",
    "sns.pairplot(subset_df)\n",
    "plt.suptitle('Pair Plot of Solar Radiation and Temperature', y=1.02)\n",
    "plt.show()"
   ]
  },
  {
   "cell_type": "code",
   "execution_count": null,
   "metadata": {},
   "outputs": [],
   "source": [
    "# Investigate the relationship between wind conditions (WS, WSgust, WD) and solar irradiance using scatter matrices\n",
    "\n",
    "# Select columns for analysis\n",
    "wind_solar_rn = dff[['WS', 'WSgust', 'WD', 'GHI', 'DNI', 'DHI']]\n",
    "\n",
    "# Create a scatter matrix\n",
    "scatter_matrix(wind_solar_rn, alpha=0.5, figsize=(10, 10), diagonal='kde')\n",
    "plt.suptitle('Scatter Matrix of Wind Conditions and Solar Irradiance', y=1.02)\n",
    "plt.show()"
   ]
  },
  {
   "cell_type": "markdown",
   "metadata": {},
   "source": [
    "## Wind Analysis "
   ]
  },
  {
   "cell_type": "code",
   "execution_count": null,
   "metadata": {},
   "outputs": [],
   "source": [
    "# Identify trends and significant wind events using Polar plots\n",
    "# Extract wind speed, wind gust, and wind direction data\n",
    "ws = dff['WS'].values\n",
    "wd = dff['WD'].values\n",
    "wdstd = dff['WDstdev'].values\n",
    "wsstd = dff['WSstdev'].values\n",
    "\n",
    "# Calculate wind direction variability (standard deviation)\n",
    "wd_std = np.zeros_like(wd)  # Initialize array for standard deviation\n",
    "window_size = 24  # Number of hours for the rolling window\n",
    "\n",
    "for i in range(window_size, len(wd)):\n",
    "    wd_std[i] = np.std(wd[i - window_size:i])\n",
    "\n",
    "# Create polar plot\n",
    "fig = plt.figure(figsize=(8, 8))\n",
    "ax = fig.add_subplot(111, projection='polar')\n",
    "\n",
    "# Plot wind speed and direction\n",
    "ax.scatter(np.deg2rad(wd), ws, c=wdstd, cmap='viridis', alpha=0.7, s=10)\n",
    "\n",
    "# Set plot properties\n",
    "ax.set_theta_zero_location('N')  # Set north at the top\n",
    "ax.set_theta_direction(-1)  # Clockwise direction\n",
    "ax.set_title('Wind Speed and Direction ')\n",
    "ax.set_xlabel('Wind Direction')\n",
    "ax.set_ylabel('Wind Speed')\n",
    "\n",
    "# Add colorbar for wind direction variability\n",
    "cbar = fig.colorbar(plt.cm.ScalarMappable(cmap='viridis'), ax=ax)\n",
    "\n",
    "\n",
    "plt.show()"
   ]
  },
  {
   "cell_type": "markdown",
   "metadata": {},
   "source": [
    "## Temperature Analysis"
   ]
  },
  {
   "cell_type": "code",
   "execution_count": null,
   "metadata": {},
   "outputs": [],
   "source": [
    "# Create scatter plots with regression lines\n",
    "fig, axes = plt.subplots(1, 3, figsize=(15, 5))\n",
    "\n",
    "# Temperature vs. Relative Humidity\n",
    "sns.regplot(x='RH', y='Tamb', data=dff, ax=axes[0], scatter_kws={'alpha':0.5})\n",
    "axes[0].set_title('Temperature vs. Relative Humidity')\n",
    "axes[0].set_xlabel('Relative Humidity')\n",
    "axes[0].set_ylabel('Temperature')\n",
    "\n",
    "# GHI vs. Relative Humidity\n",
    "sns.regplot(x='RH', y='GHI', data=dff, ax=axes[1], scatter_kws={'alpha':0.5})\n",
    "axes[1].set_title('GHI vs. Relative Humidity')\n",
    "axes[1].set_xlabel('Relative Humidity')\n",
    "axes[1].set_ylabel('GHI')\n",
    "\n",
    "# DNI vs. Relative Humidity\n",
    "sns.regplot(x='RH', y='DNI', data=dff, ax=axes[2], scatter_kws={'alpha':0.5})\n",
    "axes[2].set_title('DNI vs. Relative Humidity')\n",
    "axes[2].set_xlabel('Relative Humidity')\n",
    "axes[2].set_ylabel('DNI')\n",
    "\n",
    "\n",
    "plt.tight_layout()\n",
    "plt.show()"
   ]
  },
  {
   "cell_type": "markdown",
   "metadata": {},
   "source": [
    "## Histograms"
   ]
  },
  {
   "cell_type": "code",
   "execution_count": null,
   "metadata": {},
   "outputs": [],
   "source": [
    "# Select variables for histograms\n",
    "variables = ['GHI', 'DNI', 'DHI', 'WS', 'TModA', 'TModB']\n",
    "\n",
    "# Create histograms\n",
    "fig, axes = plt.subplots(2, 3, figsize=(15, 8))\n",
    "axes = axes.flatten()\n",
    "\n",
    "for i, var in enumerate(variables):\n",
    "    sns.histplot(dff[var], ax=axes[i], kde=True)\n",
    "    axes[i].set_title(f'Distribution of {var}')\n",
    "    axes[i].set_xlabel(var)\n",
    "    axes[i].set_ylabel('Frequency')\n",
    "\n",
    "plt.tight_layout()\n",
    "plt.show()"
   ]
  },
  {
   "cell_type": "code",
   "execution_count": null,
   "metadata": {},
   "outputs": [],
   "source": []
  }
 ],
 "metadata": {
  "kernelspec": {
   "display_name": "venv",
   "language": "python",
   "name": "python3"
  },
  "language_info": {
   "codemirror_mode": {
    "name": "ipython",
    "version": 3
   },
   "file_extension": ".py",
   "mimetype": "text/x-python",
   "name": "python",
   "nbconvert_exporter": "python",
   "pygments_lexer": "ipython3",
   "version": "3.10.5"
  }
 },
 "nbformat": 4,
 "nbformat_minor": 2
}
